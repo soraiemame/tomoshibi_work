{
 "cells": [
  {
   "cell_type": "code",
   "execution_count": 1,
   "id": "429be232",
   "metadata": {},
   "outputs": [],
   "source": [
    "class Rectangle:\n",
    "    def __init__(self,width,height):\n",
    "        self.width = width\n",
    "        self.height = height\n",
    "    def area(self):\n",
    "        return self.height * self.width\n",
    "    def perimeter(self):\n",
    "        return (self.height + self.width) * 2"
   ]
  },
  {
   "cell_type": "code",
   "execution_count": 2,
   "id": "0e56bc02",
   "metadata": {},
   "outputs": [
    {
     "name": "stdout",
     "output_type": "stream",
     "text": [
      "24\n",
      "21\n",
      "20\n",
      "20\n"
     ]
    }
   ],
   "source": [
    "a = Rectangle(4,6)\n",
    "b = Rectangle(7,3)\n",
    "\n",
    "print(a.area())\n",
    "print(b.area())\n",
    "print(a.perimeter())\n",
    "print(b.perimeter())"
   ]
  },
  {
   "cell_type": "code",
   "execution_count": 13,
   "id": "3464ebd2",
   "metadata": {},
   "outputs": [],
   "source": [
    "class Square(Rectangle):\n",
    "    def __init__(self,len):\n",
    "        super().__init__(len,len)"
   ]
  },
  {
   "cell_type": "code",
   "execution_count": 14,
   "id": "63ad0c67",
   "metadata": {},
   "outputs": [
    {
     "name": "stdout",
     "output_type": "stream",
     "text": [
      "16\n",
      "576\n",
      "16\n",
      "96\n"
     ]
    }
   ],
   "source": [
    "a = Square(4)\n",
    "b = Square(24)\n",
    "\n",
    "print(a.area())\n",
    "print(b.area())\n",
    "print(a.perimeter())\n",
    "print(b.perimeter())"
   ]
  }
 ],
 "metadata": {
  "kernelspec": {
   "display_name": "Python 3",
   "language": "python",
   "name": "python3"
  },
  "language_info": {
   "codemirror_mode": {
    "name": "ipython",
    "version": 3
   },
   "file_extension": ".py",
   "mimetype": "text/x-python",
   "name": "python",
   "nbconvert_exporter": "python",
   "pygments_lexer": "ipython3",
   "version": "3.13.3"
  }
 },
 "nbformat": 4,
 "nbformat_minor": 5
}
