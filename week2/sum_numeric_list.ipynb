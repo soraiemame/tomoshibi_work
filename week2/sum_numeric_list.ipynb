{
 "cells": [
  {
   "cell_type": "code",
   "execution_count": 1,
   "id": "9ccaed2c",
   "metadata": {},
   "outputs": [
    {
     "name": "stdout",
     "output_type": "stream",
     "text": [
      "リスト1の合計: 15\n",
      "無効な値が含まれています：hello\n",
      "無効な値が含まれています：world\n",
      "リスト2の合計: 9\n"
     ]
    }
   ],
   "source": [
    "def sum_numeric_list(data):\n",
    "    total = 0\n",
    "    for i in data:\n",
    "        try:\n",
    "            total += i\n",
    "        except Exception:\n",
    "            print(f\"無効な値が含まれています：{i}\")\n",
    "\n",
    "    return total\n",
    "\n",
    "test_list1 = [1, 2, 3, 4, 5]\n",
    "test_list2 = [1, \"hello\", 3, \"world\", 5]\n",
    "print(f\"リスト1の合計: {sum_numeric_list(test_list1)}\")\n",
    "print(f\"リスト2の合計: {sum_numeric_list(test_list2)}\")"
   ]
  }
 ],
 "metadata": {
  "kernelspec": {
   "display_name": "Python 3",
   "language": "python",
   "name": "python3"
  },
  "language_info": {
   "codemirror_mode": {
    "name": "ipython",
    "version": 3
   },
   "file_extension": ".py",
   "mimetype": "text/x-python",
   "name": "python",
   "nbconvert_exporter": "python",
   "pygments_lexer": "ipython3",
   "version": "3.13.3"
  }
 },
 "nbformat": 4,
 "nbformat_minor": 5
}
